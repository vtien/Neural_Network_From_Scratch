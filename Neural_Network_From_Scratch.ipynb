{
  "nbformat": 4,
  "nbformat_minor": 0,
  "metadata": {
    "colab": {
      "provenance": [],
      "collapsed_sections": []
    },
    "kernelspec": {
      "name": "python3",
      "display_name": "Python 3"
    },
    "widgets": {
      "application/vnd.jupyter.widget-state+json": {
        "f321fa1390594c16baf4749fcf053535": {
          "model_module": "@jupyter-widgets/controls",
          "model_name": "HBoxModel",
          "state": {
            "_view_name": "HBoxView",
            "_dom_classes": [],
            "_model_name": "HBoxModel",
            "_view_module": "@jupyter-widgets/controls",
            "_model_module_version": "1.5.0",
            "_view_count": null,
            "_view_module_version": "1.5.0",
            "box_style": "",
            "layout": "IPY_MODEL_0e2161a777e9455dbf4c698de52ee0aa",
            "_model_module": "@jupyter-widgets/controls",
            "children": [
              "IPY_MODEL_6bb1ae740c484c90b547b32cc907af70",
              "IPY_MODEL_5c3dfea9230e44f69fdeeb3458caa6a5"
            ]
          },
          "model_module_version": "1.5.0"
        },
        "0e2161a777e9455dbf4c698de52ee0aa": {
          "model_module": "@jupyter-widgets/base",
          "model_name": "LayoutModel",
          "state": {
            "_view_name": "LayoutView",
            "grid_template_rows": null,
            "right": null,
            "justify_content": null,
            "_view_module": "@jupyter-widgets/base",
            "overflow": null,
            "_model_module_version": "1.2.0",
            "_view_count": null,
            "flex_flow": null,
            "width": null,
            "min_width": null,
            "border": null,
            "align_items": null,
            "bottom": null,
            "_model_module": "@jupyter-widgets/base",
            "top": null,
            "grid_column": null,
            "overflow_y": null,
            "overflow_x": null,
            "grid_auto_flow": null,
            "grid_area": null,
            "grid_template_columns": null,
            "flex": null,
            "_model_name": "LayoutModel",
            "justify_items": null,
            "grid_row": null,
            "max_height": null,
            "align_content": null,
            "visibility": null,
            "align_self": null,
            "height": null,
            "min_height": null,
            "padding": null,
            "grid_auto_rows": null,
            "grid_gap": null,
            "max_width": null,
            "order": null,
            "_view_module_version": "1.2.0",
            "grid_template_areas": null,
            "object_position": null,
            "object_fit": null,
            "grid_auto_columns": null,
            "margin": null,
            "display": null,
            "left": null
          },
          "model_module_version": "1.2.0"
        },
        "6bb1ae740c484c90b547b32cc907af70": {
          "model_module": "@jupyter-widgets/controls",
          "model_name": "FloatProgressModel",
          "state": {
            "_view_name": "ProgressView",
            "style": "IPY_MODEL_a3eddbbb1cc44fc589b198554f6cb227",
            "_dom_classes": [],
            "description": "",
            "_model_name": "FloatProgressModel",
            "bar_style": "info",
            "max": 1,
            "_view_module": "@jupyter-widgets/controls",
            "_model_module_version": "1.5.0",
            "value": 1,
            "_view_count": null,
            "_view_module_version": "1.5.0",
            "orientation": "horizontal",
            "min": 0,
            "description_tooltip": null,
            "_model_module": "@jupyter-widgets/controls",
            "layout": "IPY_MODEL_49dbd11c4e064b4dad588e24b56e5c07"
          },
          "model_module_version": "1.5.0"
        },
        "5c3dfea9230e44f69fdeeb3458caa6a5": {
          "model_module": "@jupyter-widgets/controls",
          "model_name": "HTMLModel",
          "state": {
            "_view_name": "HTMLView",
            "style": "IPY_MODEL_1e37bc3d6aeb473ab99b1bd0f7f6f5fe",
            "_dom_classes": [],
            "description": "",
            "_model_name": "HTMLModel",
            "placeholder": "​",
            "_view_module": "@jupyter-widgets/controls",
            "_model_module_version": "1.5.0",
            "value": " 9920512/? [00:20&lt;00:00, 1505796.48it/s]",
            "_view_count": null,
            "_view_module_version": "1.5.0",
            "description_tooltip": null,
            "_model_module": "@jupyter-widgets/controls",
            "layout": "IPY_MODEL_d626acd061bc46708e52d19325cf73ab"
          },
          "model_module_version": "1.5.0"
        },
        "a3eddbbb1cc44fc589b198554f6cb227": {
          "model_module": "@jupyter-widgets/controls",
          "model_name": "ProgressStyleModel",
          "state": {
            "_view_name": "StyleView",
            "_model_name": "ProgressStyleModel",
            "description_width": "initial",
            "_view_module": "@jupyter-widgets/base",
            "_model_module_version": "1.5.0",
            "_view_count": null,
            "_view_module_version": "1.2.0",
            "bar_color": null,
            "_model_module": "@jupyter-widgets/controls"
          },
          "model_module_version": "1.5.0"
        },
        "49dbd11c4e064b4dad588e24b56e5c07": {
          "model_module": "@jupyter-widgets/base",
          "model_name": "LayoutModel",
          "state": {
            "_view_name": "LayoutView",
            "grid_template_rows": null,
            "right": null,
            "justify_content": null,
            "_view_module": "@jupyter-widgets/base",
            "overflow": null,
            "_model_module_version": "1.2.0",
            "_view_count": null,
            "flex_flow": null,
            "width": null,
            "min_width": null,
            "border": null,
            "align_items": null,
            "bottom": null,
            "_model_module": "@jupyter-widgets/base",
            "top": null,
            "grid_column": null,
            "overflow_y": null,
            "overflow_x": null,
            "grid_auto_flow": null,
            "grid_area": null,
            "grid_template_columns": null,
            "flex": null,
            "_model_name": "LayoutModel",
            "justify_items": null,
            "grid_row": null,
            "max_height": null,
            "align_content": null,
            "visibility": null,
            "align_self": null,
            "height": null,
            "min_height": null,
            "padding": null,
            "grid_auto_rows": null,
            "grid_gap": null,
            "max_width": null,
            "order": null,
            "_view_module_version": "1.2.0",
            "grid_template_areas": null,
            "object_position": null,
            "object_fit": null,
            "grid_auto_columns": null,
            "margin": null,
            "display": null,
            "left": null
          },
          "model_module_version": "1.2.0"
        },
        "1e37bc3d6aeb473ab99b1bd0f7f6f5fe": {
          "model_module": "@jupyter-widgets/controls",
          "model_name": "DescriptionStyleModel",
          "state": {
            "_view_name": "StyleView",
            "_model_name": "DescriptionStyleModel",
            "description_width": "",
            "_view_module": "@jupyter-widgets/base",
            "_model_module_version": "1.5.0",
            "_view_count": null,
            "_view_module_version": "1.2.0",
            "_model_module": "@jupyter-widgets/controls"
          },
          "model_module_version": "1.5.0"
        },
        "d626acd061bc46708e52d19325cf73ab": {
          "model_module": "@jupyter-widgets/base",
          "model_name": "LayoutModel",
          "state": {
            "_view_name": "LayoutView",
            "grid_template_rows": null,
            "right": null,
            "justify_content": null,
            "_view_module": "@jupyter-widgets/base",
            "overflow": null,
            "_model_module_version": "1.2.0",
            "_view_count": null,
            "flex_flow": null,
            "width": null,
            "min_width": null,
            "border": null,
            "align_items": null,
            "bottom": null,
            "_model_module": "@jupyter-widgets/base",
            "top": null,
            "grid_column": null,
            "overflow_y": null,
            "overflow_x": null,
            "grid_auto_flow": null,
            "grid_area": null,
            "grid_template_columns": null,
            "flex": null,
            "_model_name": "LayoutModel",
            "justify_items": null,
            "grid_row": null,
            "max_height": null,
            "align_content": null,
            "visibility": null,
            "align_self": null,
            "height": null,
            "min_height": null,
            "padding": null,
            "grid_auto_rows": null,
            "grid_gap": null,
            "max_width": null,
            "order": null,
            "_view_module_version": "1.2.0",
            "grid_template_areas": null,
            "object_position": null,
            "object_fit": null,
            "grid_auto_columns": null,
            "margin": null,
            "display": null,
            "left": null
          },
          "model_module_version": "1.2.0"
        },
        "70d16d2896454ebfac0857b092db8f96": {
          "model_module": "@jupyter-widgets/controls",
          "model_name": "HBoxModel",
          "state": {
            "_view_name": "HBoxView",
            "_dom_classes": [],
            "_model_name": "HBoxModel",
            "_view_module": "@jupyter-widgets/controls",
            "_model_module_version": "1.5.0",
            "_view_count": null,
            "_view_module_version": "1.5.0",
            "box_style": "",
            "layout": "IPY_MODEL_74b5fa82d2fa436f914727c4ca786d3b",
            "_model_module": "@jupyter-widgets/controls",
            "children": [
              "IPY_MODEL_76ac8414ba294ddba6755ca912a43c66",
              "IPY_MODEL_8191309e87cc4d5bba630440343f44e6"
            ]
          },
          "model_module_version": "1.5.0"
        },
        "74b5fa82d2fa436f914727c4ca786d3b": {
          "model_module": "@jupyter-widgets/base",
          "model_name": "LayoutModel",
          "state": {
            "_view_name": "LayoutView",
            "grid_template_rows": null,
            "right": null,
            "justify_content": null,
            "_view_module": "@jupyter-widgets/base",
            "overflow": null,
            "_model_module_version": "1.2.0",
            "_view_count": null,
            "flex_flow": null,
            "width": null,
            "min_width": null,
            "border": null,
            "align_items": null,
            "bottom": null,
            "_model_module": "@jupyter-widgets/base",
            "top": null,
            "grid_column": null,
            "overflow_y": null,
            "overflow_x": null,
            "grid_auto_flow": null,
            "grid_area": null,
            "grid_template_columns": null,
            "flex": null,
            "_model_name": "LayoutModel",
            "justify_items": null,
            "grid_row": null,
            "max_height": null,
            "align_content": null,
            "visibility": null,
            "align_self": null,
            "height": null,
            "min_height": null,
            "padding": null,
            "grid_auto_rows": null,
            "grid_gap": null,
            "max_width": null,
            "order": null,
            "_view_module_version": "1.2.0",
            "grid_template_areas": null,
            "object_position": null,
            "object_fit": null,
            "grid_auto_columns": null,
            "margin": null,
            "display": null,
            "left": null
          },
          "model_module_version": "1.2.0"
        },
        "76ac8414ba294ddba6755ca912a43c66": {
          "model_module": "@jupyter-widgets/controls",
          "model_name": "FloatProgressModel",
          "state": {
            "_view_name": "ProgressView",
            "style": "IPY_MODEL_5c2210d41e77436489dd2d3341a01a1a",
            "_dom_classes": [],
            "description": "",
            "_model_name": "FloatProgressModel",
            "bar_style": "success",
            "max": 1,
            "_view_module": "@jupyter-widgets/controls",
            "_model_module_version": "1.5.0",
            "value": 1,
            "_view_count": null,
            "_view_module_version": "1.5.0",
            "orientation": "horizontal",
            "min": 0,
            "description_tooltip": null,
            "_model_module": "@jupyter-widgets/controls",
            "layout": "IPY_MODEL_ac1828d282b541288efa74369da3a7ab"
          },
          "model_module_version": "1.5.0"
        },
        "8191309e87cc4d5bba630440343f44e6": {
          "model_module": "@jupyter-widgets/controls",
          "model_name": "HTMLModel",
          "state": {
            "_view_name": "HTMLView",
            "style": "IPY_MODEL_d8d1904b975d4ea599bd6c330769c21a",
            "_dom_classes": [],
            "description": "",
            "_model_name": "HTMLModel",
            "placeholder": "​",
            "_view_module": "@jupyter-widgets/controls",
            "_model_module_version": "1.5.0",
            "value": " 32768/? [00:01&lt;00:00, 32196.41it/s]",
            "_view_count": null,
            "_view_module_version": "1.5.0",
            "description_tooltip": null,
            "_model_module": "@jupyter-widgets/controls",
            "layout": "IPY_MODEL_5a98d469fcbf4483b72e04c6342d4059"
          },
          "model_module_version": "1.5.0"
        },
        "5c2210d41e77436489dd2d3341a01a1a": {
          "model_module": "@jupyter-widgets/controls",
          "model_name": "ProgressStyleModel",
          "state": {
            "_view_name": "StyleView",
            "_model_name": "ProgressStyleModel",
            "description_width": "initial",
            "_view_module": "@jupyter-widgets/base",
            "_model_module_version": "1.5.0",
            "_view_count": null,
            "_view_module_version": "1.2.0",
            "bar_color": null,
            "_model_module": "@jupyter-widgets/controls"
          },
          "model_module_version": "1.5.0"
        },
        "ac1828d282b541288efa74369da3a7ab": {
          "model_module": "@jupyter-widgets/base",
          "model_name": "LayoutModel",
          "state": {
            "_view_name": "LayoutView",
            "grid_template_rows": null,
            "right": null,
            "justify_content": null,
            "_view_module": "@jupyter-widgets/base",
            "overflow": null,
            "_model_module_version": "1.2.0",
            "_view_count": null,
            "flex_flow": null,
            "width": null,
            "min_width": null,
            "border": null,
            "align_items": null,
            "bottom": null,
            "_model_module": "@jupyter-widgets/base",
            "top": null,
            "grid_column": null,
            "overflow_y": null,
            "overflow_x": null,
            "grid_auto_flow": null,
            "grid_area": null,
            "grid_template_columns": null,
            "flex": null,
            "_model_name": "LayoutModel",
            "justify_items": null,
            "grid_row": null,
            "max_height": null,
            "align_content": null,
            "visibility": null,
            "align_self": null,
            "height": null,
            "min_height": null,
            "padding": null,
            "grid_auto_rows": null,
            "grid_gap": null,
            "max_width": null,
            "order": null,
            "_view_module_version": "1.2.0",
            "grid_template_areas": null,
            "object_position": null,
            "object_fit": null,
            "grid_auto_columns": null,
            "margin": null,
            "display": null,
            "left": null
          },
          "model_module_version": "1.2.0"
        },
        "d8d1904b975d4ea599bd6c330769c21a": {
          "model_module": "@jupyter-widgets/controls",
          "model_name": "DescriptionStyleModel",
          "state": {
            "_view_name": "StyleView",
            "_model_name": "DescriptionStyleModel",
            "description_width": "",
            "_view_module": "@jupyter-widgets/base",
            "_model_module_version": "1.5.0",
            "_view_count": null,
            "_view_module_version": "1.2.0",
            "_model_module": "@jupyter-widgets/controls"
          },
          "model_module_version": "1.5.0"
        },
        "5a98d469fcbf4483b72e04c6342d4059": {
          "model_module": "@jupyter-widgets/base",
          "model_name": "LayoutModel",
          "state": {
            "_view_name": "LayoutView",
            "grid_template_rows": null,
            "right": null,
            "justify_content": null,
            "_view_module": "@jupyter-widgets/base",
            "overflow": null,
            "_model_module_version": "1.2.0",
            "_view_count": null,
            "flex_flow": null,
            "width": null,
            "min_width": null,
            "border": null,
            "align_items": null,
            "bottom": null,
            "_model_module": "@jupyter-widgets/base",
            "top": null,
            "grid_column": null,
            "overflow_y": null,
            "overflow_x": null,
            "grid_auto_flow": null,
            "grid_area": null,
            "grid_template_columns": null,
            "flex": null,
            "_model_name": "LayoutModel",
            "justify_items": null,
            "grid_row": null,
            "max_height": null,
            "align_content": null,
            "visibility": null,
            "align_self": null,
            "height": null,
            "min_height": null,
            "padding": null,
            "grid_auto_rows": null,
            "grid_gap": null,
            "max_width": null,
            "order": null,
            "_view_module_version": "1.2.0",
            "grid_template_areas": null,
            "object_position": null,
            "object_fit": null,
            "grid_auto_columns": null,
            "margin": null,
            "display": null,
            "left": null
          },
          "model_module_version": "1.2.0"
        },
        "39356b4c126c42e99b345597867a2633": {
          "model_module": "@jupyter-widgets/controls",
          "model_name": "HBoxModel",
          "state": {
            "_view_name": "HBoxView",
            "_dom_classes": [],
            "_model_name": "HBoxModel",
            "_view_module": "@jupyter-widgets/controls",
            "_model_module_version": "1.5.0",
            "_view_count": null,
            "_view_module_version": "1.5.0",
            "box_style": "",
            "layout": "IPY_MODEL_a38aeda1caef46deb5ca9e3e77d335aa",
            "_model_module": "@jupyter-widgets/controls",
            "children": [
              "IPY_MODEL_2c69e88e40e04f46b4609b7167125bea",
              "IPY_MODEL_642ee9aa14ea44f0b9cde26d32de010a"
            ]
          },
          "model_module_version": "1.5.0"
        },
        "a38aeda1caef46deb5ca9e3e77d335aa": {
          "model_module": "@jupyter-widgets/base",
          "model_name": "LayoutModel",
          "state": {
            "_view_name": "LayoutView",
            "grid_template_rows": null,
            "right": null,
            "justify_content": null,
            "_view_module": "@jupyter-widgets/base",
            "overflow": null,
            "_model_module_version": "1.2.0",
            "_view_count": null,
            "flex_flow": null,
            "width": null,
            "min_width": null,
            "border": null,
            "align_items": null,
            "bottom": null,
            "_model_module": "@jupyter-widgets/base",
            "top": null,
            "grid_column": null,
            "overflow_y": null,
            "overflow_x": null,
            "grid_auto_flow": null,
            "grid_area": null,
            "grid_template_columns": null,
            "flex": null,
            "_model_name": "LayoutModel",
            "justify_items": null,
            "grid_row": null,
            "max_height": null,
            "align_content": null,
            "visibility": null,
            "align_self": null,
            "height": null,
            "min_height": null,
            "padding": null,
            "grid_auto_rows": null,
            "grid_gap": null,
            "max_width": null,
            "order": null,
            "_view_module_version": "1.2.0",
            "grid_template_areas": null,
            "object_position": null,
            "object_fit": null,
            "grid_auto_columns": null,
            "margin": null,
            "display": null,
            "left": null
          },
          "model_module_version": "1.2.0"
        },
        "2c69e88e40e04f46b4609b7167125bea": {
          "model_module": "@jupyter-widgets/controls",
          "model_name": "FloatProgressModel",
          "state": {
            "_view_name": "ProgressView",
            "style": "IPY_MODEL_67987b0f58dc4603a9d72a3a5f11d9c7",
            "_dom_classes": [],
            "description": "",
            "_model_name": "FloatProgressModel",
            "bar_style": "success",
            "max": 1,
            "_view_module": "@jupyter-widgets/controls",
            "_model_module_version": "1.5.0",
            "value": 1,
            "_view_count": null,
            "_view_module_version": "1.5.0",
            "orientation": "horizontal",
            "min": 0,
            "description_tooltip": null,
            "_model_module": "@jupyter-widgets/controls",
            "layout": "IPY_MODEL_914e11141eb04fa5b2787c56fa975325"
          },
          "model_module_version": "1.5.0"
        },
        "642ee9aa14ea44f0b9cde26d32de010a": {
          "model_module": "@jupyter-widgets/controls",
          "model_name": "HTMLModel",
          "state": {
            "_view_name": "HTMLView",
            "style": "IPY_MODEL_b2273edd24384aa79e42bd06badf355d",
            "_dom_classes": [],
            "description": "",
            "_model_name": "HTMLModel",
            "placeholder": "​",
            "_view_module": "@jupyter-widgets/controls",
            "_model_module_version": "1.5.0",
            "value": " 1654784/? [00:00&lt;00:00, 2238531.34it/s]",
            "_view_count": null,
            "_view_module_version": "1.5.0",
            "description_tooltip": null,
            "_model_module": "@jupyter-widgets/controls",
            "layout": "IPY_MODEL_ec6f74a77b2d4c91b80506ac0f77b81f"
          },
          "model_module_version": "1.5.0"
        },
        "67987b0f58dc4603a9d72a3a5f11d9c7": {
          "model_module": "@jupyter-widgets/controls",
          "model_name": "ProgressStyleModel",
          "state": {
            "_view_name": "StyleView",
            "_model_name": "ProgressStyleModel",
            "description_width": "initial",
            "_view_module": "@jupyter-widgets/base",
            "_model_module_version": "1.5.0",
            "_view_count": null,
            "_view_module_version": "1.2.0",
            "bar_color": null,
            "_model_module": "@jupyter-widgets/controls"
          },
          "model_module_version": "1.5.0"
        },
        "914e11141eb04fa5b2787c56fa975325": {
          "model_module": "@jupyter-widgets/base",
          "model_name": "LayoutModel",
          "state": {
            "_view_name": "LayoutView",
            "grid_template_rows": null,
            "right": null,
            "justify_content": null,
            "_view_module": "@jupyter-widgets/base",
            "overflow": null,
            "_model_module_version": "1.2.0",
            "_view_count": null,
            "flex_flow": null,
            "width": null,
            "min_width": null,
            "border": null,
            "align_items": null,
            "bottom": null,
            "_model_module": "@jupyter-widgets/base",
            "top": null,
            "grid_column": null,
            "overflow_y": null,
            "overflow_x": null,
            "grid_auto_flow": null,
            "grid_area": null,
            "grid_template_columns": null,
            "flex": null,
            "_model_name": "LayoutModel",
            "justify_items": null,
            "grid_row": null,
            "max_height": null,
            "align_content": null,
            "visibility": null,
            "align_self": null,
            "height": null,
            "min_height": null,
            "padding": null,
            "grid_auto_rows": null,
            "grid_gap": null,
            "max_width": null,
            "order": null,
            "_view_module_version": "1.2.0",
            "grid_template_areas": null,
            "object_position": null,
            "object_fit": null,
            "grid_auto_columns": null,
            "margin": null,
            "display": null,
            "left": null
          },
          "model_module_version": "1.2.0"
        },
        "b2273edd24384aa79e42bd06badf355d": {
          "model_module": "@jupyter-widgets/controls",
          "model_name": "DescriptionStyleModel",
          "state": {
            "_view_name": "StyleView",
            "_model_name": "DescriptionStyleModel",
            "description_width": "",
            "_view_module": "@jupyter-widgets/base",
            "_model_module_version": "1.5.0",
            "_view_count": null,
            "_view_module_version": "1.2.0",
            "_model_module": "@jupyter-widgets/controls"
          },
          "model_module_version": "1.5.0"
        },
        "ec6f74a77b2d4c91b80506ac0f77b81f": {
          "model_module": "@jupyter-widgets/base",
          "model_name": "LayoutModel",
          "state": {
            "_view_name": "LayoutView",
            "grid_template_rows": null,
            "right": null,
            "justify_content": null,
            "_view_module": "@jupyter-widgets/base",
            "overflow": null,
            "_model_module_version": "1.2.0",
            "_view_count": null,
            "flex_flow": null,
            "width": null,
            "min_width": null,
            "border": null,
            "align_items": null,
            "bottom": null,
            "_model_module": "@jupyter-widgets/base",
            "top": null,
            "grid_column": null,
            "overflow_y": null,
            "overflow_x": null,
            "grid_auto_flow": null,
            "grid_area": null,
            "grid_template_columns": null,
            "flex": null,
            "_model_name": "LayoutModel",
            "justify_items": null,
            "grid_row": null,
            "max_height": null,
            "align_content": null,
            "visibility": null,
            "align_self": null,
            "height": null,
            "min_height": null,
            "padding": null,
            "grid_auto_rows": null,
            "grid_gap": null,
            "max_width": null,
            "order": null,
            "_view_module_version": "1.2.0",
            "grid_template_areas": null,
            "object_position": null,
            "object_fit": null,
            "grid_auto_columns": null,
            "margin": null,
            "display": null,
            "left": null
          },
          "model_module_version": "1.2.0"
        },
        "117d850dd2944aa7b2566b0344677db5": {
          "model_module": "@jupyter-widgets/controls",
          "model_name": "HBoxModel",
          "state": {
            "_view_name": "HBoxView",
            "_dom_classes": [],
            "_model_name": "HBoxModel",
            "_view_module": "@jupyter-widgets/controls",
            "_model_module_version": "1.5.0",
            "_view_count": null,
            "_view_module_version": "1.5.0",
            "box_style": "",
            "layout": "IPY_MODEL_8c262237bb5c4f2793f5aa50ef2bc34c",
            "_model_module": "@jupyter-widgets/controls",
            "children": [
              "IPY_MODEL_34cefcb4222c4b8d950a9a7392cf1539",
              "IPY_MODEL_70921a84e961495fa84d5ee37cc743f1"
            ]
          },
          "model_module_version": "1.5.0"
        },
        "8c262237bb5c4f2793f5aa50ef2bc34c": {
          "model_module": "@jupyter-widgets/base",
          "model_name": "LayoutModel",
          "state": {
            "_view_name": "LayoutView",
            "grid_template_rows": null,
            "right": null,
            "justify_content": null,
            "_view_module": "@jupyter-widgets/base",
            "overflow": null,
            "_model_module_version": "1.2.0",
            "_view_count": null,
            "flex_flow": null,
            "width": null,
            "min_width": null,
            "border": null,
            "align_items": null,
            "bottom": null,
            "_model_module": "@jupyter-widgets/base",
            "top": null,
            "grid_column": null,
            "overflow_y": null,
            "overflow_x": null,
            "grid_auto_flow": null,
            "grid_area": null,
            "grid_template_columns": null,
            "flex": null,
            "_model_name": "LayoutModel",
            "justify_items": null,
            "grid_row": null,
            "max_height": null,
            "align_content": null,
            "visibility": null,
            "align_self": null,
            "height": null,
            "min_height": null,
            "padding": null,
            "grid_auto_rows": null,
            "grid_gap": null,
            "max_width": null,
            "order": null,
            "_view_module_version": "1.2.0",
            "grid_template_areas": null,
            "object_position": null,
            "object_fit": null,
            "grid_auto_columns": null,
            "margin": null,
            "display": null,
            "left": null
          },
          "model_module_version": "1.2.0"
        },
        "34cefcb4222c4b8d950a9a7392cf1539": {
          "model_module": "@jupyter-widgets/controls",
          "model_name": "FloatProgressModel",
          "state": {
            "_view_name": "ProgressView",
            "style": "IPY_MODEL_748024ad91e5449884eb897d194ca546",
            "_dom_classes": [],
            "description": "",
            "_model_name": "FloatProgressModel",
            "bar_style": "success",
            "max": 1,
            "_view_module": "@jupyter-widgets/controls",
            "_model_module_version": "1.5.0",
            "value": 1,
            "_view_count": null,
            "_view_module_version": "1.5.0",
            "orientation": "horizontal",
            "min": 0,
            "description_tooltip": null,
            "_model_module": "@jupyter-widgets/controls",
            "layout": "IPY_MODEL_4f73e3316ae2489e964170f648c1e9cd"
          },
          "model_module_version": "1.5.0"
        },
        "70921a84e961495fa84d5ee37cc743f1": {
          "model_module": "@jupyter-widgets/controls",
          "model_name": "HTMLModel",
          "state": {
            "_view_name": "HTMLView",
            "style": "IPY_MODEL_f90812f63aa14099805b224ab559bd4f",
            "_dom_classes": [],
            "description": "",
            "_model_name": "HTMLModel",
            "placeholder": "​",
            "_view_module": "@jupyter-widgets/controls",
            "_model_module_version": "1.5.0",
            "value": " 8192/? [00:00&lt;00:00, 18647.94it/s]",
            "_view_count": null,
            "_view_module_version": "1.5.0",
            "description_tooltip": null,
            "_model_module": "@jupyter-widgets/controls",
            "layout": "IPY_MODEL_d97e4ea056c74d9db557ed3ebc67d249"
          },
          "model_module_version": "1.5.0"
        },
        "748024ad91e5449884eb897d194ca546": {
          "model_module": "@jupyter-widgets/controls",
          "model_name": "ProgressStyleModel",
          "state": {
            "_view_name": "StyleView",
            "_model_name": "ProgressStyleModel",
            "description_width": "initial",
            "_view_module": "@jupyter-widgets/base",
            "_model_module_version": "1.5.0",
            "_view_count": null,
            "_view_module_version": "1.2.0",
            "bar_color": null,
            "_model_module": "@jupyter-widgets/controls"
          },
          "model_module_version": "1.5.0"
        },
        "4f73e3316ae2489e964170f648c1e9cd": {
          "model_module": "@jupyter-widgets/base",
          "model_name": "LayoutModel",
          "state": {
            "_view_name": "LayoutView",
            "grid_template_rows": null,
            "right": null,
            "justify_content": null,
            "_view_module": "@jupyter-widgets/base",
            "overflow": null,
            "_model_module_version": "1.2.0",
            "_view_count": null,
            "flex_flow": null,
            "width": null,
            "min_width": null,
            "border": null,
            "align_items": null,
            "bottom": null,
            "_model_module": "@jupyter-widgets/base",
            "top": null,
            "grid_column": null,
            "overflow_y": null,
            "overflow_x": null,
            "grid_auto_flow": null,
            "grid_area": null,
            "grid_template_columns": null,
            "flex": null,
            "_model_name": "LayoutModel",
            "justify_items": null,
            "grid_row": null,
            "max_height": null,
            "align_content": null,
            "visibility": null,
            "align_self": null,
            "height": null,
            "min_height": null,
            "padding": null,
            "grid_auto_rows": null,
            "grid_gap": null,
            "max_width": null,
            "order": null,
            "_view_module_version": "1.2.0",
            "grid_template_areas": null,
            "object_position": null,
            "object_fit": null,
            "grid_auto_columns": null,
            "margin": null,
            "display": null,
            "left": null
          },
          "model_module_version": "1.2.0"
        },
        "f90812f63aa14099805b224ab559bd4f": {
          "model_module": "@jupyter-widgets/controls",
          "model_name": "DescriptionStyleModel",
          "state": {
            "_view_name": "StyleView",
            "_model_name": "DescriptionStyleModel",
            "description_width": "",
            "_view_module": "@jupyter-widgets/base",
            "_model_module_version": "1.5.0",
            "_view_count": null,
            "_view_module_version": "1.2.0",
            "_model_module": "@jupyter-widgets/controls"
          },
          "model_module_version": "1.5.0"
        },
        "d97e4ea056c74d9db557ed3ebc67d249": {
          "model_module": "@jupyter-widgets/base",
          "model_name": "LayoutModel",
          "state": {
            "_view_name": "LayoutView",
            "grid_template_rows": null,
            "right": null,
            "justify_content": null,
            "_view_module": "@jupyter-widgets/base",
            "overflow": null,
            "_model_module_version": "1.2.0",
            "_view_count": null,
            "flex_flow": null,
            "width": null,
            "min_width": null,
            "border": null,
            "align_items": null,
            "bottom": null,
            "_model_module": "@jupyter-widgets/base",
            "top": null,
            "grid_column": null,
            "overflow_y": null,
            "overflow_x": null,
            "grid_auto_flow": null,
            "grid_area": null,
            "grid_template_columns": null,
            "flex": null,
            "_model_name": "LayoutModel",
            "justify_items": null,
            "grid_row": null,
            "max_height": null,
            "align_content": null,
            "visibility": null,
            "align_self": null,
            "height": null,
            "min_height": null,
            "padding": null,
            "grid_auto_rows": null,
            "grid_gap": null,
            "max_width": null,
            "order": null,
            "_view_module_version": "1.2.0",
            "grid_template_areas": null,
            "object_position": null,
            "object_fit": null,
            "grid_auto_columns": null,
            "margin": null,
            "display": null,
            "left": null
          },
          "model_module_version": "1.2.0"
        }
      }
    }
  },
  "cells": [
    {
      "cell_type": "markdown",
      "metadata": {
        "id": "w8UfylizE6e5"
      },
      "source": [
        "# Part a"
      ]
    },
    {
      "cell_type": "code",
      "metadata": {
        "id": "eB8MmrRy-93T",
        "outputId": "b4176f4a-4d41-46f3-87fa-29c282067844",
        "colab": {
          "base_uri": "https://localhost:8080/",
          "height": 437,
          "referenced_widgets": [
            "f321fa1390594c16baf4749fcf053535",
            "0e2161a777e9455dbf4c698de52ee0aa",
            "6bb1ae740c484c90b547b32cc907af70",
            "5c3dfea9230e44f69fdeeb3458caa6a5",
            "a3eddbbb1cc44fc589b198554f6cb227",
            "49dbd11c4e064b4dad588e24b56e5c07",
            "1e37bc3d6aeb473ab99b1bd0f7f6f5fe",
            "d626acd061bc46708e52d19325cf73ab",
            "70d16d2896454ebfac0857b092db8f96",
            "74b5fa82d2fa436f914727c4ca786d3b",
            "76ac8414ba294ddba6755ca912a43c66",
            "8191309e87cc4d5bba630440343f44e6",
            "5c2210d41e77436489dd2d3341a01a1a",
            "ac1828d282b541288efa74369da3a7ab",
            "d8d1904b975d4ea599bd6c330769c21a",
            "5a98d469fcbf4483b72e04c6342d4059",
            "39356b4c126c42e99b345597867a2633",
            "a38aeda1caef46deb5ca9e3e77d335aa",
            "2c69e88e40e04f46b4609b7167125bea",
            "642ee9aa14ea44f0b9cde26d32de010a",
            "67987b0f58dc4603a9d72a3a5f11d9c7",
            "914e11141eb04fa5b2787c56fa975325",
            "b2273edd24384aa79e42bd06badf355d",
            "ec6f74a77b2d4c91b80506ac0f77b81f",
            "117d850dd2944aa7b2566b0344677db5",
            "8c262237bb5c4f2793f5aa50ef2bc34c",
            "34cefcb4222c4b8d950a9a7392cf1539",
            "70921a84e961495fa84d5ee37cc743f1",
            "748024ad91e5449884eb897d194ca546",
            "4f73e3316ae2489e964170f648c1e9cd",
            "f90812f63aa14099805b224ab559bd4f",
            "d97e4ea056c74d9db557ed3ebc67d249"
          ]
        }
      },
      "source": [
        "import torchvision as thv\n",
        "train = thv.datasets.MNIST('./', download=True, train=True) \n",
        "val = thv.datasets.MNIST('./', download=True, train=False)\n",
        "print(train.data.shape, len(train.targets))"
      ],
      "execution_count": null,
      "outputs": [
        {
          "output_type": "stream",
          "text": [
            "Downloading http://yann.lecun.com/exdb/mnist/train-images-idx3-ubyte.gz to ./MNIST/raw/train-images-idx3-ubyte.gz\n"
          ],
          "name": "stdout"
        },
        {
          "output_type": "display_data",
          "data": {
            "application/vnd.jupyter.widget-view+json": {
              "model_id": "f321fa1390594c16baf4749fcf053535",
              "version_minor": 0,
              "version_major": 2
            },
            "text/plain": [
              "HBox(children=(FloatProgress(value=1.0, bar_style='info', max=1.0), HTML(value='')))"
            ]
          },
          "metadata": {
            "tags": []
          }
        },
        {
          "output_type": "stream",
          "text": [
            "Extracting ./MNIST/raw/train-images-idx3-ubyte.gz to ./MNIST/raw\n",
            "Downloading http://yann.lecun.com/exdb/mnist/train-labels-idx1-ubyte.gz to ./MNIST/raw/train-labels-idx1-ubyte.gz\n"
          ],
          "name": "stdout"
        },
        {
          "output_type": "display_data",
          "data": {
            "application/vnd.jupyter.widget-view+json": {
              "model_id": "70d16d2896454ebfac0857b092db8f96",
              "version_minor": 0,
              "version_major": 2
            },
            "text/plain": [
              "HBox(children=(FloatProgress(value=1.0, bar_style='info', max=1.0), HTML(value='')))"
            ]
          },
          "metadata": {
            "tags": []
          }
        },
        {
          "output_type": "stream",
          "text": [
            "Extracting ./MNIST/raw/train-labels-idx1-ubyte.gz to ./MNIST/raw\n",
            "Downloading http://yann.lecun.com/exdb/mnist/t10k-images-idx3-ubyte.gz to ./MNIST/raw/t10k-images-idx3-ubyte.gz\n"
          ],
          "name": "stdout"
        },
        {
          "output_type": "display_data",
          "data": {
            "application/vnd.jupyter.widget-view+json": {
              "model_id": "39356b4c126c42e99b345597867a2633",
              "version_minor": 0,
              "version_major": 2
            },
            "text/plain": [
              "HBox(children=(FloatProgress(value=1.0, bar_style='info', max=1.0), HTML(value='')))"
            ]
          },
          "metadata": {
            "tags": []
          }
        },
        {
          "output_type": "stream",
          "text": [
            "Extracting ./MNIST/raw/t10k-images-idx3-ubyte.gz to ./MNIST/raw\n",
            "Downloading http://yann.lecun.com/exdb/mnist/t10k-labels-idx1-ubyte.gz to ./MNIST/raw/t10k-labels-idx1-ubyte.gz\n",
            "\n",
            "\n"
          ],
          "name": "stdout"
        },
        {
          "output_type": "display_data",
          "data": {
            "application/vnd.jupyter.widget-view+json": {
              "model_id": "117d850dd2944aa7b2566b0344677db5",
              "version_minor": 0,
              "version_major": 2
            },
            "text/plain": [
              "HBox(children=(FloatProgress(value=1.0, bar_style='info', max=1.0), HTML(value='')))"
            ]
          },
          "metadata": {
            "tags": []
          }
        },
        {
          "output_type": "stream",
          "text": [
            "Extracting ./MNIST/raw/t10k-labels-idx1-ubyte.gz to ./MNIST/raw\n",
            "Processing...\n",
            "Done!\n",
            "torch.Size([60000, 28, 28]) 60000\n",
            "\n"
          ],
          "name": "stdout"
        },
        {
          "output_type": "stream",
          "text": [
            "/usr/local/lib/python3.6/dist-packages/torchvision/datasets/mnist.py:469: UserWarning: The given NumPy array is not writeable, and PyTorch does not support non-writeable tensors. This means you can write to the underlying (supposedly non-writeable) NumPy array using the tensor. You may want to copy the array to protect its data or make it writeable before converting it to a tensor. This type of warning will be suppressed for the rest of this program. (Triggered internally at  /pytorch/torch/csrc/utils/tensor_numpy.cpp:141.)\n",
            "  return torch.from_numpy(parsed.astype(m[2], copy=False)).view(*s)\n"
          ],
          "name": "stderr"
        }
      ]
    },
    {
      "cell_type": "markdown",
      "metadata": {
        "id": "paVWC4ywFzsc"
      },
      "source": [
        "Split the data into train and test sets. Stratify parameter is used to ensure balancing of classes in the sub-samples"
      ]
    },
    {
      "cell_type": "code",
      "metadata": {
        "id": "d4AuTMyvBdgj"
      },
      "source": [
        "from sklearn.model_selection import train_test_split\n",
        "import numpy as np\n",
        "targets = train.targets\n",
        "train_idx, valid_idx= train_test_split(np.arange(len(targets)), train_size=30000, random_state=42, shuffle=True, stratify=targets)"
      ],
      "execution_count": null,
      "outputs": []
    },
    {
      "cell_type": "code",
      "metadata": {
        "id": "IGFfxPaWFLn1"
      },
      "source": [
        "targets = val.targets\n",
        "val_idx, valid_idx= train_test_split(np.arange(len(targets)), train_size=5000, random_state=42, shuffle=True, stratify=targets) \n",
        "#use train test split but only grab the indices to create a subsample of size 5000"
      ],
      "execution_count": null,
      "outputs": []
    },
    {
      "cell_type": "code",
      "metadata": {
        "id": "rVK4RDqqAWLE"
      },
      "source": [
        "x_train, y_train = train.data[train_idx], train.targets[train_idx]\n",
        "x_val, y_val = val.data[val_idx], val.targets[val_idx]"
      ],
      "execution_count": null,
      "outputs": []
    },
    {
      "cell_type": "markdown",
      "metadata": {
        "id": "qDN1jaf0GEvD"
      },
      "source": [
        "Let's verify that the new training set has roughly 3000 images per class"
      ]
    },
    {
      "cell_type": "code",
      "metadata": {
        "id": "8WSIQos7FuyE",
        "outputId": "de262b28-828b-421e-82cb-48c1eed21cce",
        "colab": {
          "base_uri": "https://localhost:8080/",
          "height": 187
        }
      },
      "source": [
        "from collections import Counter\n",
        "Counter(y_train.numpy())"
      ],
      "execution_count": null,
      "outputs": [
        {
          "output_type": "execute_result",
          "data": {
            "text/plain": [
              "Counter({0: 2962,\n",
              "         1: 3371,\n",
              "         2: 2979,\n",
              "         3: 3066,\n",
              "         4: 2921,\n",
              "         5: 2710,\n",
              "         6: 2959,\n",
              "         7: 3132,\n",
              "         8: 2925,\n",
              "         9: 2975})"
            ]
          },
          "metadata": {
            "tags": []
          },
          "execution_count": 68
        }
      ]
    },
    {
      "cell_type": "markdown",
      "metadata": {
        "id": "LEl7jOkYGLKB"
      },
      "source": [
        "We can see that this is the case. Next, let's make sure the new validation set has roughly 500 samples per class"
      ]
    },
    {
      "cell_type": "code",
      "metadata": {
        "id": "_mhtSbKFGBHQ",
        "outputId": "2870607f-2450-42c8-94c8-2c223ff94823",
        "colab": {
          "base_uri": "https://localhost:8080/",
          "height": 187
        }
      },
      "source": [
        "Counter(y_val.numpy())"
      ],
      "execution_count": null,
      "outputs": [
        {
          "output_type": "execute_result",
          "data": {
            "text/plain": [
              "Counter({0: 490,\n",
              "         1: 567,\n",
              "         2: 516,\n",
              "         3: 505,\n",
              "         4: 491,\n",
              "         5: 446,\n",
              "         6: 479,\n",
              "         7: 514,\n",
              "         8: 487,\n",
              "         9: 505})"
            ]
          },
          "metadata": {
            "tags": []
          },
          "execution_count": 6
        }
      ]
    },
    {
      "cell_type": "markdown",
      "metadata": {
        "id": "t4O2WJpnGdLf"
      },
      "source": [
        "Now that this has been verified, let's plot a few images from the training set"
      ]
    },
    {
      "cell_type": "code",
      "metadata": {
        "id": "Is_keRj3GiCJ",
        "outputId": "5432257b-9172-46b6-d960-bcfdb6ec5a8d",
        "colab": {
          "base_uri": "https://localhost:8080/",
          "height": 268
        }
      },
      "source": [
        "import matplotlib.pyplot as plt\n",
        "\n",
        "fig, axs = plt.subplots(2, 2)\n",
        "axs[0,0].imshow(x_train[0])\n",
        "axs[1,0].imshow(x_train[50])\n",
        "axs[1,1].imshow(x_train[100])\n",
        "axs[0,1].imshow(x_train[1000])\n",
        "plt.show()"
      ],
      "execution_count": null,
      "outputs": [
        {
          "output_type": "display_data",
          "data": {
            "image/png": "[encoded data removed]",
            "text/plain": [
              "<Figure size 432x288 with 4 Axes>"
            ]
          },
          "metadata": {
            "tags": [],
            "needs_background": "light"
          }
        }
      ]
    },
    {
      "cell_type": "markdown",
      "metadata": {
        "id": "K2jfxNyoGZTc"
      },
      "source": [
        "# Part b"
      ]
    },
    {
      "cell_type": "code",
      "metadata": {
        "id": "vEOneWW6GX4_"
      },
      "source": [
        "import numpy.linalg as LA\n",
        "\n",
        "class linear_t:\n",
        "  def __init__(self):\n",
        "    w_init = np.random.randn(10,784) #weights initialized to 10 rows (# of classes) by 784 columns (number of features in each image)\n",
        "    b_init = np.random.randn(1,10)\n",
        "    w_norm = LA.norm(w_init, 'fro') #calculate Frobenius norms\n",
        "    b_norm = LA.norm(b_init, 'fro')\n",
        "    self.w = np.divide(w_init, w_norm) #normalize\n",
        "    self.b = np.divide(b_init, b_norm)\n",
        "\n",
        "  def forward(self, h_l):\n",
        "    #h_l is the input data (dimensions: batch size x features)\n",
        "    h_l = h_l.reshape(-1,784)\n",
        "    h_l_1 = np.dot(h_l, self.w.T) + self.b[:h_l.shape[0], :]\n",
        "    self.hl = h_l #cache h_l because it will be used to compute the gradient in backward\n",
        "    return np.array(h_l_1)\n",
        "\n",
        "  def backward(self, dh_l_1):\n",
        "    self.dw = np.dot(dh_l_1.T, self.hl) #derivative of cost w.r.t the current layer (dh_l_1) * derivative of layer w.r.t W (self.h1)\n",
        "    #self.db = np.dot(dh_l_1,1)\n",
        "    self.db = np.dot(np.ones((1, self.hl.shape[0])), dh_l_1)\n",
        "    dh1_dh = self.w\n",
        "    dh_l = np.dot(dh_l_1, dh1_dh) #define gradient of previous layer with respect to the input, which is the gradient from the layer above it\n",
        "    return dh_l\n",
        "  \n",
        "  def zero_grad(self):\n",
        "    # useful to delete the stored backprop gradients of the\n",
        "    # previous mini-batch before you start a new mini-batch\n",
        "    self.dw, self.db = 0*self.dw, 0*self.db"
      ],
      "execution_count": null,
      "outputs": []
    },
    {
      "cell_type": "markdown",
      "metadata": {
        "id": "sYrnfIgxeh9J"
      },
      "source": [
        "# Part c"
      ]
    },
    {
      "cell_type": "code",
      "metadata": {
        "id": "qCJJbgQtfjAA"
      },
      "source": [
        "class relu_t:\n",
        "  #def __init__(self):\n",
        "    #nothing to initialize\n",
        "\n",
        "  def forward(self, h1):\n",
        "    #h1 is the output from linear layer\n",
        "    relu_h_l_1 = np.maximum(0, h1) #ReLU layer, element-wise maximum array returned\n",
        "    self.hl = h1 #cache h1 because it will be used to compute the gradient in backward\n",
        "    return relu_h_l_1\n",
        "\n",
        "  def backward(self, dh_l_1):\n",
        "    dh_l = dh_l_1 * (self.hl > 0)\n",
        "    return dh_l"
      ],
      "execution_count": null,
      "outputs": []
    },
    {
      "cell_type": "markdown",
      "metadata": {
        "id": "60BH0g6l7N-E"
      },
      "source": [
        "# Part d"
      ]
    },
    {
      "cell_type": "code",
      "metadata": {
        "id": "5dnNs6t37O_U"
      },
      "source": [
        "import math\n",
        "class softmax_cross_entropy_t:\n",
        "  #def __init__(self):\n",
        "    #nothing to initialize\n",
        "\n",
        "  def forward(self, h_l, y):\n",
        "    #h_l is a row vector that is the result of the dot product between weight and inputs, with the reLU applied\n",
        "    self.beta = h_l.shape[0] #number of rows in the mini-batch\n",
        "\n",
        "    #define hot_y again as the one-hot encoded label (this will happen each iteration of the training loop)\n",
        "    hot_y = np.zeros((32, 10))\n",
        "    hot_y[np.arange(np.array(y).size),y] = 1\n",
        "    self.y_lab = hot_y\n",
        "\n",
        "    #calculate softmax output\n",
        "    exp_h_l = np.exp(h_l - np.max(h_l, axis=1).reshape(-1,1))\n",
        "    denom = np.sum(exp_h_l, axis=1, keepdims=True)\n",
        "    h_l_1 = exp_h_l / denom #broadcast Nones for division\n",
        "    self.h_l_plus_1 = h_l_1 #prediction probabilities\n",
        "\n",
        "    #get indices of y label and extract log of softmax layer from that for each row\n",
        "    cross_entropy_loss = h_l_1[np.arange(h_l_1.shape[0]), y] #essentially multiplying row of hot_y by row of pred probabilities h^(l+1)\n",
        "    cross_entropy_loss = -np.log(cross_entropy_loss)\n",
        "\n",
        "    #calculate error\n",
        "    wrong = 0\n",
        "    for b in range(self.beta):\n",
        "      true = np.argmax(hot_y[b])\n",
        "      prediction = np.argmax(h_l_1[b,:])\n",
        "      if true != prediction:\n",
        "        wrong+=1\n",
        "    \n",
        "    ell =  np.sum(cross_entropy_loss) * 1/self.beta #average loss over the mini-batch\n",
        "    error = 1/self.beta * wrong\n",
        "    return ell, error\n",
        "\n",
        "  def backward(self):\n",
        "    dh_l = (self.h_l_plus_1 - self.y_lab) / self.beta # multiplied by 1\n",
        "    return dh_l"
      ],
      "execution_count": null,
      "outputs": []
    },
    {
      "cell_type": "markdown",
      "metadata": {
        "id": "aPVt-SM583Qx"
      },
      "source": [
        "# Part e"
      ]
    },
    {
      "cell_type": "code",
      "metadata": {
        "id": "V2zG8YunikDG"
      },
      "source": [
        "sample_img = train.data[0].numpy()"
      ],
      "execution_count": null,
      "outputs": []
    },
    {
      "cell_type": "code",
      "metadata": {
        "id": "DsbcDJbERpXv"
      },
      "source": [
        "#convert data to numpy\n",
        "x_train, x_val, y_train, y_val = x_train.numpy(), x_val.numpy(), y_train.numpy(), y_val.numpy()"
      ],
      "execution_count": null,
      "outputs": []
    },
    {
      "cell_type": "markdown",
      "metadata": {
        "id": "966IL5EsWy_V"
      },
      "source": [
        "Here I implement a backward_check function to the linear_t class to use the method of finite differences as verification of my gradients"
      ]
    },
    {
      "cell_type": "code",
      "metadata": {
        "id": "I-Xl-tTgMVlY"
      },
      "source": [
        "import random\n",
        "class linear_t:\n",
        "  def __init__(self):\n",
        "    w_init = np.random.randn(10,784) #weights initialized to 10 rows (# of classes) by 784 columns (number of features in each image)\n",
        "    b_init = np.random.randn(1,10)\n",
        "    w_norm = LA.norm(w_init, 'fro') #calculate Frobenius norms\n",
        "    b_norm = LA.norm(b_init, 'fro')\n",
        "    self.w = np.divide(w_init, w_norm) #normalize\n",
        "    self.b = np.divide(b_init, b_norm)\n",
        "\n",
        "  def forward(self, h_l):\n",
        "    #h_l is the input data (dimensions: batch size x features)\n",
        "    h_l = h_l.reshape(-1,784)\n",
        "    h_l_1 = np.dot(h_l, self.w.T) + self.b\n",
        "    self.hl = h_l #cache h_l because it will be used to compute the gradient in backward\n",
        "    return np.array(h_l_1)\n",
        "\n",
        "  def backward(self, dh_l_1):\n",
        "    self.dw = np.dot(dh_l_1.T, self.hl) #derivative of cost w.r.t the current layer (dh_l_1) * derivative of layer w.r.t W (self.h1)\n",
        "    self.db = np.dot(dh_l_1.T, np.ones((self.hl.shape[0], 1)))\n",
        "    dh1_dh = self.w\n",
        "    dh_l = np.dot(dh_l_1, dh1_dh) #define gradient of previous layer with respect to the input, which is the gradient from the layer above it\n",
        "    return dh_l\n",
        "\n",
        "  def backward_check(self):\n",
        "    #compute finite differences and compare values with backward function\n",
        "    #construct epsilon\n",
        "    epsilon = np.zeros((10,784))\n",
        "    epsilon_change = 0.034   #np.random.normal()\n",
        "    #i, j = random.sample(range(0,10), 1), random.sample(range(0,784), 1)\n",
        "    epsilon[0,161] = epsilon_change\n",
        "\n",
        "    ## dw check\n",
        "    first = np.dot(self.hl,(self.w + epsilon).T)\n",
        "    second = np.dot(self.hl,(self.w - epsilon).T)\n",
        "    self.dw_check = (first-second)/(2*0.034)\n",
        "\n",
        "    ## db check\n",
        "    epsilon = np.zeros((1,10))\n",
        "    epsilon[0,4] = epsilon_change\n",
        "    b_first = np.dot(np.ones((self.hl.shape[0], 1)),(self.b + epsilon))\n",
        "    b_second = np.dot(np.ones((self.hl.shape[0], 1)),(self.b - epsilon))\n",
        "    self.db_check = (b_first-b_second)/(2*0.034)\n",
        "\n",
        "    ## dh_l check\n",
        "    epsilon = np.zeros((1,784))\n",
        "    epsilon[0,4] = epsilon_change\n",
        "    h_first = np.dot(self.w,(self.hl+ epsilon).T)\n",
        "    h_second = np.dot(self.w,(self.hl - epsilon).T)\n",
        "    self.dh_l_check = (h_first-h_second)/(2*0.034)\n",
        "  \n",
        "  def zero_grad(self):\n",
        "    # useful to delete the stored backprop gradients of the\n",
        "    # previous mini-batch before you start a new mini-batch\n",
        "    self.dw, self.db = 0*self.dw, 0*self.db"
      ],
      "execution_count": null,
      "outputs": []
    },
    {
      "cell_type": "code",
      "metadata": {
        "id": "3G2G1LcS82vu"
      },
      "source": [
        "l1 = linear_t()"
      ],
      "execution_count": null,
      "outputs": []
    },
    {
      "cell_type": "code",
      "metadata": {
        "id": "VxnNE5j6CeUA",
        "outputId": "8eb1afae-fd1b-4157-c34c-99a418058e8c",
        "colab": {
          "base_uri": "https://localhost:8080/",
          "height": 34
        }
      },
      "source": [
        "l1.forward(sample_img).shape"
      ],
      "execution_count": null,
      "outputs": [
        {
          "output_type": "execute_result",
          "data": {
            "text/plain": [
              "(1, 10)"
            ]
          },
          "metadata": {
            "tags": []
          },
          "execution_count": 259
        }
      ]
    },
    {
      "cell_type": "markdown",
      "metadata": {
        "id": "kEOg5aP9ZwkU"
      },
      "source": [
        "Create a sample dh that is all zeros except for a 1 at the kth location"
      ]
    },
    {
      "cell_type": "code",
      "metadata": {
        "id": "yoQCvtZ3i5pB"
      },
      "source": [
        "#k = 5\n",
        "sample_dh_l_1 = np.zeros((1,10))\n",
        "sample_dh_l_1[0,5] = 1"
      ],
      "execution_count": null,
      "outputs": []
    },
    {
      "cell_type": "code",
      "metadata": {
        "id": "uXaSNx80jHP9"
      },
      "source": [
        "output = l1.backward(sample_dh_l_1)"
      ],
      "execution_count": null,
      "outputs": []
    },
    {
      "cell_type": "code",
      "metadata": {
        "id": "2cO4QkRDdTiJ"
      },
      "source": [
        "l1.backward_check()"
      ],
      "execution_count": null,
      "outputs": []
    },
    {
      "cell_type": "markdown",
      "metadata": {
        "id": "4d-jrIFbsnzg"
      },
      "source": [
        "Check dw"
      ]
    },
    {
      "cell_type": "code",
      "metadata": {
        "id": "3cuF05iije-2",
        "outputId": "372aa802-a504-421f-a988-6ce47124b796",
        "colab": {
          "base_uri": "https://localhost:8080/",
          "height": 34
        }
      },
      "source": [
        "l1.dw[0,161]"
      ],
      "execution_count": null,
      "outputs": [
        {
          "output_type": "execute_result",
          "data": {
            "text/plain": [
              "0.0"
            ]
          },
          "metadata": {
            "tags": []
          },
          "execution_count": 250
        }
      ]
    },
    {
      "cell_type": "code",
      "metadata": {
        "id": "cSOi6aY6sdtE",
        "outputId": "a11036bd-ffb0-4606-cd0e-6b330e2c1202",
        "colab": {
          "base_uri": "https://localhost:8080/",
          "height": 34
        }
      },
      "source": [
        "l1.dw_check\n",
        "#correct because kth (5) element is 0"
      ],
      "execution_count": null,
      "outputs": [
        {
          "output_type": "execute_result",
          "data": {
            "text/plain": [
              "array([[255.,   0.,   0.,   0.,   0.,   0.,   0.,   0.,   0.,   0.]])"
            ]
          },
          "metadata": {
            "tags": []
          },
          "execution_count": 256
        }
      ]
    },
    {
      "cell_type": "markdown",
      "metadata": {
        "id": "KIp59EUXsrdL"
      },
      "source": [
        "Check db"
      ]
    },
    {
      "cell_type": "code",
      "metadata": {
        "id": "3jU30G6elfgO",
        "outputId": "490deda5-f9fa-440d-c7a8-2cf559b259f5",
        "colab": {
          "base_uri": "https://localhost:8080/",
          "height": 34
        }
      },
      "source": [
        "l1.db_check[0]"
      ],
      "execution_count": null,
      "outputs": [
        {
          "output_type": "execute_result",
          "data": {
            "text/plain": [
              "array([0., 0., 0., 0., 1., 0., 0., 0., 0., 0.])"
            ]
          },
          "metadata": {
            "tags": []
          },
          "execution_count": 254
        }
      ]
    },
    {
      "cell_type": "code",
      "metadata": {
        "id": "WQ1kHSpYsL8z",
        "outputId": "d767462f-54d4-470a-9523-fa8fdfda6630",
        "colab": {
          "base_uri": "https://localhost:8080/",
          "height": 187
        }
      },
      "source": [
        "l1.db"
      ],
      "execution_count": null,
      "outputs": [
        {
          "output_type": "execute_result",
          "data": {
            "text/plain": [
              "array([[0.],\n",
              "       [0.],\n",
              "       [0.],\n",
              "       [0.],\n",
              "       [0.],\n",
              "       [1.],\n",
              "       [0.],\n",
              "       [0.],\n",
              "       [0.],\n",
              "       [0.]])"
            ]
          },
          "metadata": {
            "tags": []
          },
          "execution_count": 255
        }
      ]
    },
    {
      "cell_type": "markdown",
      "metadata": {
        "id": "MQldp0oHssSj"
      },
      "source": [
        "Check dh"
      ]
    },
    {
      "cell_type": "code",
      "metadata": {
        "id": "p1b6IIoostUw",
        "outputId": "33e8df99-32fb-4220-f769-ff4485f73e25",
        "colab": {
          "base_uri": "https://localhost:8080/",
          "height": 187
        }
      },
      "source": [
        "#0, 5 in the estimator should match up with 0,4 in the actual dh_l that is output\n",
        "l1.dh_l_check"
      ],
      "execution_count": null,
      "outputs": [
        {
          "output_type": "execute_result",
          "data": {
            "text/plain": [
              "array([[ 0.00451776],\n",
              "       [ 0.02226187],\n",
              "       [-0.0043443 ],\n",
              "       [-0.00359538],\n",
              "       [ 0.01236908],\n",
              "       [-0.00545147],\n",
              "       [ 0.00276677],\n",
              "       [ 0.00572642],\n",
              "       [-0.00235777],\n",
              "       [-0.01213609]])"
            ]
          },
          "metadata": {
            "tags": []
          },
          "execution_count": 264
        }
      ]
    },
    {
      "cell_type": "code",
      "metadata": {
        "id": "8PNfchkTtiJP",
        "outputId": "46476228-037c-4904-b6e4-7c95dd9c90aa",
        "colab": {
          "base_uri": "https://localhost:8080/",
          "height": 34
        }
      },
      "source": [
        "output[0,4]"
      ],
      "execution_count": null,
      "outputs": [
        {
          "output_type": "execute_result",
          "data": {
            "text/plain": [
              "-0.005451473396844402"
            ]
          },
          "metadata": {
            "tags": []
          },
          "execution_count": 272
        }
      ]
    },
    {
      "cell_type": "markdown",
      "metadata": {
        "id": "eIl7MijrZ3oc"
      },
      "source": [
        "These all look good, so next I move on to training the network"
      ]
    },
    {
      "cell_type": "markdown",
      "metadata": {
        "id": "ncXICVH_RkqM"
      },
      "source": [
        "# Part f"
      ]
    },
    {
      "cell_type": "code",
      "metadata": {
        "id": "U53scR50aTDD"
      },
      "source": [
        "#convert data to numpy\n",
        "#x_train, x_val, y_train, y_val = x_train.numpy(), x_val.numpy(), y_train.numpy(), y_val.numpy()\n",
        "x_train, x_val = x_train/255, x_val/255"
      ],
      "execution_count": null,
      "outputs": []
    },
    {
      "cell_type": "code",
      "metadata": {
        "id": "F3pwE1I9-NzL",
        "outputId": "ff87a996-450c-49bc-fb69-af12d532b4f4",
        "colab": {
          "base_uri": "https://localhost:8080/",
          "height": 34
        }
      },
      "source": [
        "import random\n",
        "import numpy as np\n",
        "\n",
        "#initialize all layers\n",
        "l1, l2, l3 = linear_t(), relu_t(), softmax_cross_entropy_t()\n",
        "net = [l1, l2, l3]\n",
        "\n",
        "#set learning rate\n",
        "lr = 0.1\n",
        "\n",
        "# train for at least 1000 iterations\n",
        "error_vals = []\n",
        "loss = []\n",
        "for t in range(10000):\n",
        "  # 1. sample a mini-batch of size = 32\n",
        "  # each image in the mini-batch is chosen uniformly randomly from the\n",
        "  # training dataset\n",
        "  idx = random.sample(range(0, 30000), 32) #create random indices to sample data\n",
        "  x, y = x_train[idx,:,:], y_train[idx]\n",
        "  \n",
        "\n",
        "  # 2. forward pass\n",
        "  h1 = l1.forward(x)\n",
        "  h2 = l2.forward(h1)\n",
        "  print(h2.shape)\n",
        "  break\n",
        "  ell, error = l3.forward(h2, y)\n",
        "\n",
        "  \n",
        "  # # 3. backward pass\n",
        "  dh2 = l3.backward()\n",
        "  dh1 = l2.backward(dh2)\n",
        "  dx = l1.backward(dh1)\n",
        "  \n",
        "  # 4. gather backprop gradients\n",
        "  dw, db = l1.dw, l1.db\n",
        "  \n",
        "  # 5. print some quantities for logging\n",
        "  # and debugging\n",
        "  print(t, ell, error)\n",
        "  #print(t, np.linalg.norm(dw/l1.w), np.linalg.norm(db/l1.b))\n",
        "  error_vals.append(error)\n",
        "  loss.append(ell)\n",
        "  \n",
        "  # 6. one step of SGD\n",
        "  l1.w = l1.w - lr*dw\n",
        "  l1.b = l1.b - lr*db\n",
        "\n",
        "  # 7. zero gradient buffer\n",
        "  l1.zero_grad()"
      ],
      "execution_count": null,
      "outputs": [
        {
          "output_type": "stream",
          "text": [
            "(32, 10)\n"
          ],
          "name": "stdout"
        }
      ]
    },
    {
      "cell_type": "code",
      "metadata": {
        "id": "A9sIHaiMIIaE"
      },
      "source": [
        "import random\n",
        "import numpy as np\n",
        "\n",
        "#initialize all layers\n",
        "l1, l2, l3 = linear_t(), relu_t(), softmax_cross_entropy_t()\n",
        "net = [l1, l2, l3]\n",
        "\n",
        "#set learning rate\n",
        "lr = 0.1\n",
        "\n",
        "# train for at least 1000 iterations\n",
        "error_vals = []\n",
        "loss = []\n",
        "for t in range(10000):\n",
        "  # 1. sample a mini-batch of size = 32\n",
        "  # each image in the mini-batch is chosen uniformly randomly from the\n",
        "  # training dataset\n",
        "  idx = random.sample(range(0, 30000), 32) #create random indices to sample data\n",
        "  x, y = x_train[idx,:,:], y_train[idx]\n",
        "  \n",
        "\n",
        "  # 2. forward pass\n",
        "  h1 = l1.forward(x)\n",
        "  h2 = l2.forward(h1)\n",
        "  ell, error = l3.forward(h2, y)\n",
        "\n",
        "  \n",
        "  # # 3. backward pass\n",
        "  dh2 = l3.backward()\n",
        "  dh1 = l2.backward(dh2)\n",
        "  dx = l1.backward(dh1)\n",
        "  \n",
        "  # 4. gather backprop gradients\n",
        "  dw, db = l1.dw, l1.db\n",
        "  \n",
        "  # 5. print some quantities for logging\n",
        "  # and debugging\n",
        "  print(t, ell, error)\n",
        "  #print(t, np.linalg.norm(dw/l1.w), np.linalg.norm(db/l1.b))\n",
        "  error_vals.append(error)\n",
        "  loss.append(ell)\n",
        "  \n",
        "  # 6. one step of SGD\n",
        "  l1.w = l1.w - lr*dw\n",
        "  l1.b = l1.b - lr*db\n",
        "\n",
        "  # 7. zero gradient buffer\n",
        "  l1.zero_grad()"
      ],
      "execution_count": null,
      "outputs": []
    },
    {
      "cell_type": "markdown",
      "metadata": {
        "id": "bHOD1gtuQck0"
      },
      "source": [
        "Plot (include all plots in pdf)"
      ]
    },
    {
      "cell_type": "code",
      "metadata": {
        "id": "l7sYo31YigoI",
        "outputId": "157837aa-951b-4c85-da26-208b1e207ae1",
        "colab": {
          "base_uri": "https://localhost:8080/",
          "height": 295
        }
      },
      "source": [
        "import matplotlib.pyplot as plt\n",
        "plt.plot(error_vals)\n",
        "plt.title('Error vs. Weight Updates')\n",
        "plt.xlabel('Number of Weight Updates')\n",
        "plt.ylabel('Proportion of Wrongly Classsified Images')\n",
        "plt.show()"
      ],
      "execution_count": null,
      "outputs": [
        {
          "output_type": "display_data",
          "data": {
            "image/png": "[encoded data removed]",
            "text/plain": [
              "<Figure size 432x288 with 1 Axes>"
            ]
          },
          "metadata": {
            "tags": [],
            "needs_background": "light"
          }
        }
      ]
    },
    {
      "cell_type": "markdown",
      "metadata": {
        "id": "Iob_Nd_xrJz4"
      },
      "source": [
        "Smoother version of same plot"
      ]
    },
    {
      "cell_type": "code",
      "metadata": {
        "id": "5cEV4sM00wBI",
        "outputId": "1191a07e-4027-4090-ba78-f9f1f88ef77e",
        "colab": {
          "base_uri": "https://localhost:8080/",
          "height": 295
        }
      },
      "source": [
        "import matplotlib.pyplot as plt\n",
        "plt.plot(error_vals[0::100])\n",
        "plt.title('Training Error vs. Weight Updates')\n",
        "plt.xlabel('Number of Weight Updates (100s)')\n",
        "plt.ylabel('Proportion of Wrongly Classsified Images')\n",
        "plt.show()"
      ],
      "execution_count": null,
      "outputs": [
        {
          "output_type": "display_data",
          "data": {
            "image/png": "[encoded data removed]",
            "text/plain": [
              "<Figure size 432x288 with 1 Axes>"
            ]
          },
          "metadata": {
            "tags": [],
            "needs_background": "light"
          }
        }
      ]
    },
    {
      "cell_type": "code",
      "metadata": {
        "id": "bPapAMq5ij8H",
        "outputId": "3d61d583-78ee-4a5e-dcb1-027f470ec639",
        "colab": {
          "base_uri": "https://localhost:8080/",
          "height": 295
        }
      },
      "source": [
        "plt.plot(loss)\n",
        "plt.title('Training Loss vs. Weight Updates')\n",
        "plt.xlabel('Number of Weight Updates')\n",
        "plt.ylabel('Average Cross-Entropy Loss Per Batch')\n",
        "plt.show()"
      ],
      "execution_count": null,
      "outputs": [
        {
          "output_type": "display_data",
          "data": {
            "image/png": "[encoded data removed]",
            "text/plain": [
              "<Figure size 432x288 with 1 Axes>"
            ]
          },
          "metadata": {
            "tags": [],
            "needs_background": "light"
          }
        }
      ]
    },
    {
      "cell_type": "markdown",
      "metadata": {
        "id": "zJukm6lZrL3u"
      },
      "source": [
        "Smoother version of same plot"
      ]
    },
    {
      "cell_type": "code",
      "metadata": {
        "id": "jPqJkoirW5zh",
        "outputId": "b4e89987-0ece-4c11-b4b0-f5bbcdf08186",
        "colab": {
          "base_uri": "https://localhost:8080/",
          "height": 295
        }
      },
      "source": [
        "plt.plot(loss[0:100])\n",
        "plt.title('Training Loss vs. Weight Updates')\n",
        "plt.xlabel('Number of Weight Updates (100s)')\n",
        "plt.ylabel('Average Cross-Entropy Loss Per Batch')\n",
        "plt.show()"
      ],
      "execution_count": null,
      "outputs": [
        {
          "output_type": "display_data",
          "data": {
            "image/png": "[encoded data removed]",
            "text/plain": [
              "<Figure size 432x288 with 1 Axes>"
            ]
          },
          "metadata": {
            "tags": [],
            "needs_background": "light"
          }
        }
      ]
    },
    {
      "cell_type": "markdown",
      "metadata": {
        "id": "zwbwe0AvQdUG"
      },
      "source": [
        "# Part g"
      ]
    },
    {
      "cell_type": "code",
      "metadata": {
        "id": "FjWPqycMQftg"
      },
      "source": [
        "def validate(train_w, train_b):\n",
        "  # 1. iterate over mini-batches from the validation dataset\n",
        "  # note that this should not be done randomly, we want to check\n",
        "  # every image only once\n",
        "  loss, tot_error = 0, 0\n",
        "  tot=0\n",
        "  l1 = linear_t()\n",
        "  l1.w = train_w\n",
        "  l1.b = train_b\n",
        "  for i in range(0, 5000, 32):\n",
        "    x, y = x_val[i:i+32], y_val[i:i+32]\n",
        "    \n",
        "    # 2. compute forward pass and error\n",
        "    h1 = l1.forward(x)\n",
        "    h2 = l2.forward(h1)\n",
        "    ell, error = l3.forward(h2, y)\n",
        "    loss+=ell\n",
        "    tot_error+=error\n",
        "    tot+=1\n",
        "\n",
        "  loss, tot_error = loss/tot, tot_error/tot\n",
        "  return loss, tot_error"
      ],
      "execution_count": null,
      "outputs": []
    },
    {
      "cell_type": "markdown",
      "metadata": {
        "id": "9hOujkAsulGA"
      },
      "source": [
        "Train network again while recording validation loss/error"
      ]
    },
    {
      "cell_type": "code",
      "metadata": {
        "id": "XDcdhKwaukWp"
      },
      "source": [
        "#initialize all layers\n",
        "l1, l2, l3 = linear_t(), relu_t(), softmax_cross_entropy_t()\n",
        "net = [l1, l2, l3]\n",
        "\n",
        "#set learning rate\n",
        "lr = 0.1\n",
        "\n",
        "# train for at least 1000 iterations\n",
        "error_vals = []\n",
        "val_error_list = []\n",
        "loss = []\n",
        "val_loss_list = []\n",
        "j=0\n",
        "for t in range(10000):\n",
        "  # 1. sample a mini-batch of size = 32\n",
        "  # each image in the mini-batch is chosen uniformly randomly from the\n",
        "  # training dataset\n",
        "  idx = random.sample(range(0, 30000), 32) #create random indices to sample data\n",
        "  x, y = x_train[idx,:,:], y_train[idx]\n",
        "  \n",
        "\n",
        "  # 2. forward pass\n",
        "  h1 = l1.forward(x)\n",
        "  h2 = l2.forward(h1)\n",
        "  ell, error = l3.forward(h2, y)\n",
        "\n",
        "  \n",
        "  # # 3. backward pass\n",
        "  dh2 = l3.backward()\n",
        "  dh1 = l2.backward(dh2)\n",
        "  dx = l1.backward(dh1)\n",
        "  \n",
        "  # 4. gather backprop gradients\n",
        "  dw, db = l1.dw, l1.db\n",
        "  \n",
        "  # 5. print some quantities for logging\n",
        "  # and debugging\n",
        "  print(t, ell, error)\n",
        "  #print(t, np.linalg.norm(dw/l1.w), np.linalg.norm(db/l1.b))\n",
        "  error_vals.append(error)\n",
        "  loss.append(ell)\n",
        "  \n",
        "  # 6. one step of SGD\n",
        "  l1.w = l1.w - lr*dw\n",
        "  l1.b = l1.b - lr*db\n",
        "\n",
        "  # 7. calculate validation loss and error\n",
        "  train_w, train_b = l1.w, l1.b\n",
        "  val_loss, val_error = validate(train_w, train_b)\n",
        "  val_error_list.append(val_error)\n",
        "  val_loss_list.append(val_loss)\n",
        "\n",
        "  # 8. zero gradient buffer\n",
        "  l1.zero_grad()"
      ],
      "execution_count": null,
      "outputs": []
    },
    {
      "cell_type": "markdown",
      "metadata": {
        "id": "EFm8ZI1pQ0S_"
      },
      "source": [
        "Create plots"
      ]
    },
    {
      "cell_type": "code",
      "metadata": {
        "id": "xOI7fwaq0ChK",
        "outputId": "640c7c66-01ff-4c8a-edbc-5ae761359b9f",
        "colab": {
          "base_uri": "https://localhost:8080/",
          "height": 295
        }
      },
      "source": [
        "import matplotlib.pyplot as plt\n",
        "plt.plot(val_error_list[0::1000]) #grab every 1000th element\n",
        "plt.title('Validation Error vs. Weight Updates')\n",
        "plt.xlabel('Number of Weight Updates (in 1000s)')\n",
        "plt.ylabel('Proportion of Wrongly Classsified Images')\n",
        "plt.show()"
      ],
      "execution_count": null,
      "outputs": [
        {
          "output_type": "display_data",
          "data": {
            "image/png": "[encoded data removed]",
            "text/plain": [
              "<Figure size 432x288 with 1 Axes>"
            ]
          },
          "metadata": {
            "tags": [],
            "needs_background": "light"
          }
        }
      ]
    },
    {
      "cell_type": "code",
      "metadata": {
        "id": "SmSnHZqowson",
        "outputId": "42108f24-1ba5-45bd-be0a-cde38d42aed4",
        "colab": {
          "base_uri": "https://localhost:8080/",
          "height": 295
        }
      },
      "source": [
        "plt.plot(val_loss_list[0::1000])\n",
        "plt.title('Validation Loss vs. Weight Updates')\n",
        "plt.xlabel('Number of Weight Updates (in 1000s)')\n",
        "plt.ylabel('Average Loss Over Validation Set')\n",
        "plt.show()"
      ],
      "execution_count": null,
      "outputs": [
        {
          "output_type": "display_data",
          "data": {
            "image/png": "[encoded data removed]",
            "text/plain": [
              "<Figure size 432x288 with 1 Axes>"
            ]
          },
          "metadata": {
            "tags": [],
            "needs_background": "light"
          }
        }
      ]
    },
    {
      "cell_type": "markdown",
      "metadata": {
        "id": "rIVmj37-QyQE"
      },
      "source": [
        "# Part h"
      ]
    },
    {
      "cell_type": "code",
      "metadata": {
        "id": "mCcvDW57Q14-"
      },
      "source": [
        "import torch"
      ],
      "execution_count": null,
      "outputs": []
    },
    {
      "cell_type": "markdown",
      "metadata": {
        "id": "vnJ_9BYS-vJF"
      },
      "source": [
        "Convert back to tensors"
      ]
    },
    {
      "cell_type": "code",
      "metadata": {
        "id": "tU34_yY59Twp"
      },
      "source": [
        "x_train, x_val, y_train, y_val = torch.from_numpy(x_train) , torch.from_numpy(x_val), torch.from_numpy(y_train), torch.from_numpy(y_val)"
      ],
      "execution_count": null,
      "outputs": []
    },
    {
      "cell_type": "markdown",
      "metadata": {
        "id": "1lxid3qN_HR4"
      },
      "source": [
        "Create dataloader objects from sub-sampled data"
      ]
    },
    {
      "cell_type": "code",
      "metadata": {
        "id": "eMhffAQNJGFa"
      },
      "source": [
        "from torch.utils.data import TensorDataset\n",
        "train = TensorDataset(x_train, y_train)\n",
        "val = TensorDataset(x_val, y_val)"
      ],
      "execution_count": null,
      "outputs": []
    },
    {
      "cell_type": "code",
      "metadata": {
        "id": "tNS9-LXg_Gvp"
      },
      "source": [
        "trainset = torch.utils.data.DataLoader(train, batch_size=32, shuffle=True)\n",
        "valset = torch.utils.data.DataLoader(val, batch_size=32, shuffle=True)"
      ],
      "execution_count": null,
      "outputs": []
    },
    {
      "cell_type": "markdown",
      "metadata": {
        "id": "aROBcS-S8WjD"
      },
      "source": [
        "Create network"
      ]
    },
    {
      "cell_type": "code",
      "metadata": {
        "id": "NwVCxtl8MInL"
      },
      "source": [
        "import torch.nn as nn\n",
        "import torch.nn.functional as F"
      ],
      "execution_count": null,
      "outputs": []
    },
    {
      "cell_type": "code",
      "metadata": {
        "id": "vs9sh51MLHbA"
      },
      "source": [
        "class Net(nn.Module):\n",
        "  def __init__(self):\n",
        "    super().__init__()\n",
        "    self.fc1 = nn.Linear(784, 10) #simple one-layer network, as was constructed from scratch above\n",
        "  \n",
        "  def forward(self, x):\n",
        "    x = F.relu(self.fc1(x))\n",
        "    return F.log_softmax(x, dim=1)"
      ],
      "execution_count": null,
      "outputs": []
    },
    {
      "cell_type": "code",
      "metadata": {
        "id": "M0rQZzNwQWQi"
      },
      "source": [
        "import torch.optim as optim\n",
        "\n",
        "net = Net()\n",
        "optimizer = optim.SGD(net.parameters(), lr=0.1)\n",
        "error = 0\n",
        "total = 0\n",
        "epochs = 13\n",
        "loss_list = []\n",
        "train_error_list = []\n",
        "val_loss_list = []\n",
        "val_error_list = []\n",
        "for e in range(epochs):\n",
        "  for data in trainset:\n",
        "    x_train, y_train = data #one batch of data\n",
        "    net.zero_grad()\n",
        "    output = net(x_train.view(-1,784).float()) #forward pass\n",
        "\n",
        "    #calculate training error\n",
        "    for idx, pred in enumerate(output):\n",
        "      if torch.argmax(pred) != y_train[idx]:\n",
        "        error+=1\n",
        "      total+=1\n",
        "\n",
        "    #calculate validation error average over whole validation set\n",
        "    v_total = 0\n",
        "    v_error = 0\n",
        "    v_loss = 0\n",
        "    for v_data in valset:\n",
        "      x_val, y_val = v_data\n",
        "      val_output = net(x_val.view(-1,784).float())\n",
        "      for v_idx, val_pred in enumerate(val_output):\n",
        "        if torch.argmax(val_pred) != y_val[v_idx]:\n",
        "          v_error+=1\n",
        "        v_total+=1\n",
        "\n",
        "      validation_loss = F.nll_loss(val_output, y_val)\n",
        "      v_loss += validation_loss.item()\n",
        "\n",
        "    val_loss_list.append(v_loss/v_total)\n",
        "    val_error_list.append(v_error/v_total)\n",
        "\n",
        "    #backpropagate loss\n",
        "    loss = F.nll_loss(output, y_train)\n",
        "    loss.backward()\n",
        "    optimizer.step()\n",
        "    loss_list.append(loss.item())\n",
        "    train_error_list.append(round(error/total, 3))"
      ],
      "execution_count": null,
      "outputs": []
    },
    {
      "cell_type": "markdown",
      "metadata": {
        "id": "QEuOxyrv7Q5H"
      },
      "source": [
        "Plot training metrics"
      ]
    },
    {
      "cell_type": "code",
      "metadata": {
        "id": "3MxlqkwJs2Ez",
        "outputId": "3bfca5b4-6bab-4881-ee9f-9ef5c9ac7f79",
        "colab": {
          "base_uri": "https://localhost:8080/",
          "height": 295
        }
      },
      "source": [
        "plt.plot(train_error_list)\n",
        "plt.title('Training Error vs. Weight Updates')\n",
        "plt.xlabel('Number of Weight Updates')\n",
        "plt.ylabel('Proportion of Wrongly Classsified Images')\n",
        "plt.show()"
      ],
      "execution_count": null,
      "outputs": [
        {
          "output_type": "display_data",
          "data": {
            "image/png": "[encoded data removed]",
            "text/plain": [
              "<Figure size 432x288 with 1 Axes>"
            ]
          },
          "metadata": {
            "tags": [],
            "needs_background": "light"
          }
        }
      ]
    },
    {
      "cell_type": "code",
      "metadata": {
        "id": "m2ibkZAKXvTH",
        "outputId": "25f93392-db1a-46d5-9001-4b59cde9a350",
        "colab": {
          "base_uri": "https://localhost:8080/",
          "height": 295
        }
      },
      "source": [
        "plt.plot(loss_list)\n",
        "plt.title('Training Loss vs. Weight Updates')\n",
        "plt.xlabel('Number of Weight Updates')\n",
        "plt.ylabel('Average Cross-Entropy Loss Per Batch')\n",
        "plt.show()"
      ],
      "execution_count": null,
      "outputs": [
        {
          "output_type": "display_data",
          "data": {
            "image/png": "[encoded data removed]",
            "text/plain": [
              "<Figure size 432x288 with 1 Axes>"
            ]
          },
          "metadata": {
            "tags": [],
            "needs_background": "light"
          }
        }
      ]
    },
    {
      "cell_type": "markdown",
      "metadata": {
        "id": "SiRUwzza7S9W"
      },
      "source": [
        "Plot validation metrics"
      ]
    },
    {
      "cell_type": "code",
      "metadata": {
        "id": "tB-WTnnVs8RA",
        "outputId": "43ae76d4-6fc1-48ed-9b9d-25dfe58b96e7",
        "colab": {
          "base_uri": "https://localhost:8080/",
          "height": 295
        }
      },
      "source": [
        "plt.plot(val_error_list)\n",
        "plt.title('Validation Error vs. Weight Updates')\n",
        "plt.xlabel('Number of Weight Updates')\n",
        "plt.ylabel('Proportion of Wrongly Classsified Images')\n",
        "plt.show()"
      ],
      "execution_count": null,
      "outputs": [
        {
          "output_type": "display_data",
          "data": {
            "image/png": "[encoded data removed]",
            "text/plain": [
              "<Figure size 432x288 with 1 Axes>"
            ]
          },
          "metadata": {
            "tags": [],
            "needs_background": "light"
          }
        }
      ]
    },
    {
      "cell_type": "code",
      "metadata": {
        "id": "jSMd39FIs_Ac",
        "outputId": "38ba4aab-314e-4e5f-923d-70136a3cf8af",
        "colab": {
          "base_uri": "https://localhost:8080/",
          "height": 295
        }
      },
      "source": [
        "plt.plot(val_loss_list)\n",
        "plt.title('Validation Loss vs. Weight Updates')\n",
        "plt.xlabel('Number of Weight Updates')\n",
        "plt.ylabel('Average Cross-Entropy Loss Per Batch')\n",
        "plt.show()"
      ],
      "execution_count": null,
      "outputs": [
        {
          "output_type": "display_data",
          "data": {
            "image/png": "[encoded data removed]",
            "text/plain": [
              "<Figure size 432x288 with 1 Axes>"
            ]
          },
          "metadata": {
            "tags": [],
            "needs_background": "light"
          }
        }
      ]
    }
  ]
}